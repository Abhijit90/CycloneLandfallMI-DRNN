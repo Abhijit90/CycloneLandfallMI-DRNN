{
 "cells": [
  {
   "cell_type": "code",
   "execution_count": null,
   "metadata": {},
   "outputs": [],
   "source": [
    "# new + better dataset - only forward imputed data :  better dataset"
   ]
  },
  {
   "cell_type": "code",
   "execution_count": 1,
   "metadata": {},
   "outputs": [],
   "source": [
    "import pandas as pd\n",
    "\n",
    "from sklearn.model_selection import train_test_split\n",
    "from sklearn.feature_selection import SelectKBest\n",
    "from sklearn.feature_selection import mutual_info_regression\n",
    "from matplotlib import pyplot as plt\n",
    "\n",
    "filePath = 'IMDDataTillLandfall_moreFeatures3.csv'\n",
    "# filePath = 'IMDDataSSTLandfall.csv'\n",
    "\n",
    "\n",
    "data = pd.read_csv(filePath, index_col=0)"
   ]
  },
  {
   "cell_type": "code",
   "execution_count": 2,
   "metadata": {},
   "outputs": [
    {
     "data": {
      "text/html": [
       "<div>\n",
       "<style scoped>\n",
       "    .dataframe tbody tr th:only-of-type {\n",
       "        vertical-align: middle;\n",
       "    }\n",
       "\n",
       "    .dataframe tbody tr th {\n",
       "        vertical-align: top;\n",
       "    }\n",
       "\n",
       "    .dataframe thead th {\n",
       "        text-align: right;\n",
       "    }\n",
       "</style>\n",
       "<table border=\"1\" class=\"dataframe\">\n",
       "  <thead>\n",
       "    <tr style=\"text-align: right;\">\n",
       "      <th></th>\n",
       "      <th>season</th>\n",
       "      <th>lati</th>\n",
       "      <th>long</th>\n",
       "      <th>cino</th>\n",
       "      <th>ecp</th>\n",
       "      <th>mssw</th>\n",
       "      <th>pd</th>\n",
       "      <th>grade</th>\n",
       "      <th>oci</th>\n",
       "      <th>diam</th>\n",
       "      <th>sst</th>\n",
       "      <th>cyclone_id</th>\n",
       "      <th>distance</th>\n",
       "      <th>direction</th>\n",
       "    </tr>\n",
       "  </thead>\n",
       "  <tbody>\n",
       "    <tr>\n",
       "      <th>0</th>\n",
       "      <td>2.0</td>\n",
       "      <td>8.5</td>\n",
       "      <td>87.0</td>\n",
       "      <td>1.5</td>\n",
       "      <td>1002.0</td>\n",
       "      <td>25.0</td>\n",
       "      <td>4.0</td>\n",
       "      <td>1.0</td>\n",
       "      <td>1006.0</td>\n",
       "      <td>10.0</td>\n",
       "      <td>29.189999</td>\n",
       "      <td>1990-1</td>\n",
       "      <td>0.000000</td>\n",
       "      <td>0.000000</td>\n",
       "    </tr>\n",
       "    <tr>\n",
       "      <th>1</th>\n",
       "      <td>2.0</td>\n",
       "      <td>9.0</td>\n",
       "      <td>87.0</td>\n",
       "      <td>1.5</td>\n",
       "      <td>1001.0</td>\n",
       "      <td>25.0</td>\n",
       "      <td>4.0</td>\n",
       "      <td>1.0</td>\n",
       "      <td>1005.0</td>\n",
       "      <td>7.5</td>\n",
       "      <td>28.939999</td>\n",
       "      <td>1990-1</td>\n",
       "      <td>34.546711</td>\n",
       "      <td>180.000000</td>\n",
       "    </tr>\n",
       "    <tr>\n",
       "      <th>2</th>\n",
       "      <td>2.0</td>\n",
       "      <td>9.5</td>\n",
       "      <td>87.0</td>\n",
       "      <td>1.5</td>\n",
       "      <td>1000.0</td>\n",
       "      <td>25.0</td>\n",
       "      <td>4.0</td>\n",
       "      <td>1.0</td>\n",
       "      <td>1004.0</td>\n",
       "      <td>5.0</td>\n",
       "      <td>29.560000</td>\n",
       "      <td>1990-1</td>\n",
       "      <td>34.546711</td>\n",
       "      <td>180.000000</td>\n",
       "    </tr>\n",
       "    <tr>\n",
       "      <th>3</th>\n",
       "      <td>2.0</td>\n",
       "      <td>9.5</td>\n",
       "      <td>86.5</td>\n",
       "      <td>1.5</td>\n",
       "      <td>1001.0</td>\n",
       "      <td>25.0</td>\n",
       "      <td>4.0</td>\n",
       "      <td>1.0</td>\n",
       "      <td>1005.0</td>\n",
       "      <td>5.5</td>\n",
       "      <td>29.880000</td>\n",
       "      <td>1990-1</td>\n",
       "      <td>34.072921</td>\n",
       "      <td>151.435514</td>\n",
       "    </tr>\n",
       "    <tr>\n",
       "      <th>4</th>\n",
       "      <td>2.0</td>\n",
       "      <td>9.5</td>\n",
       "      <td>86.0</td>\n",
       "      <td>1.5</td>\n",
       "      <td>1002.0</td>\n",
       "      <td>25.0</td>\n",
       "      <td>4.0</td>\n",
       "      <td>1.0</td>\n",
       "      <td>1006.0</td>\n",
       "      <td>6.0</td>\n",
       "      <td>29.880000</td>\n",
       "      <td>1990-1</td>\n",
       "      <td>34.072921</td>\n",
       "      <td>148.472001</td>\n",
       "    </tr>\n",
       "  </tbody>\n",
       "</table>\n",
       "</div>"
      ],
      "text/plain": [
       "   season  lati  long  cino     ecp  mssw   pd  grade     oci  diam  \\\n",
       "0     2.0   8.5  87.0   1.5  1002.0  25.0  4.0    1.0  1006.0  10.0   \n",
       "1     2.0   9.0  87.0   1.5  1001.0  25.0  4.0    1.0  1005.0   7.5   \n",
       "2     2.0   9.5  87.0   1.5  1000.0  25.0  4.0    1.0  1004.0   5.0   \n",
       "3     2.0   9.5  86.5   1.5  1001.0  25.0  4.0    1.0  1005.0   5.5   \n",
       "4     2.0   9.5  86.0   1.5  1002.0  25.0  4.0    1.0  1006.0   6.0   \n",
       "\n",
       "         sst cyclone_id   distance   direction  \n",
       "0  29.189999     1990-1   0.000000    0.000000  \n",
       "1  28.939999     1990-1  34.546711  180.000000  \n",
       "2  29.560000     1990-1  34.546711  180.000000  \n",
       "3  29.880000     1990-1  34.072921  151.435514  \n",
       "4  29.880000     1990-1  34.072921  148.472001  "
      ]
     },
     "execution_count": 2,
     "metadata": {},
     "output_type": "execute_result"
    }
   ],
   "source": [
    "data.head()"
   ]
  },
  {
   "cell_type": "code",
   "execution_count": 3,
   "metadata": {},
   "outputs": [],
   "source": [
    "y = data['mssw']\n",
    "x = data.loc[:, data.columns != 'mssw']\n",
    "x = x.drop(columns = ['cyclone_id'])"
   ]
  },
  {
   "cell_type": "code",
   "execution_count": 4,
   "metadata": {},
   "outputs": [
    {
     "name": "stdout",
     "output_type": "stream",
     "text": [
      "Feature season: 0.045433\n",
      "Feature lati: 0.220735\n",
      "Feature long: 0.264511\n",
      "Feature cino: 1.973257\n",
      "Feature ecp: 1.110234\n",
      "Feature pd: 1.875978\n",
      "Feature grade: 1.814062\n",
      "Feature oci: 0.117858\n",
      "Feature diam: 0.142300\n",
      "Feature sst: 0.290991\n",
      "Feature distance: 0.175923\n",
      "Feature direction: 0.051585\n"
     ]
    },
    {
     "data": {
      "image/png": "[encoded data removed]",
      "text/plain": [
       "<Figure size 432x288 with 1 Axes>"
      ]
     },
     "metadata": {
      "needs_background": "light"
     },
     "output_type": "display_data"
    }
   ],
   "source": [
    "# feature selection\n",
    "def select_features(X_train, y_train, X_test):\n",
    "    # configure to select all features\n",
    "    fs = SelectKBest(score_func=mutual_info_regression, k='all')\n",
    "    # learn relationship from training data\n",
    "    fs.fit(X_train, y_train)\n",
    "    # transform train input data\n",
    "    X_train_fs = fs.transform(X_train)\n",
    "    # transform test input data\n",
    "    X_test_fs = fs.transform(X_test)\n",
    "    return X_train_fs, X_test_fs, fs\n",
    "\n",
    "X_train, X_test, y_train, y_test = train_test_split(x, y, test_size=0.33, random_state=1)\n",
    "\n",
    "X_train_fs, X_test_fs, fs = select_features(X_train, y_train, X_test)\n",
    "\n",
    "features = x.columns\n",
    "\n",
    "# what are scores for the features\n",
    "for i in range(len(fs.scores_)):\n",
    "#     print('Feature %d: %f' % (i, fs.scores_[i]))\n",
    "    print('Feature %s: %f' %(features[i], fs.scores_[i]))\n",
    "\n",
    "    \n",
    "# plot the scores\n",
    "# plt.bar([i for i in range(len(fs.scores_))], fs.scores_)\n",
    "plt.bar(features, fs.scores_)\n",
    "\n",
    "\n",
    "plt.show()"
   ]
  },
  {
   "cell_type": "code",
   "execution_count": 5,
   "metadata": {},
   "outputs": [
    {
     "data": {
      "text/plain": [
       "Index(['season', 'lati', 'long', 'cino', 'ecp', 'pd', 'grade', 'oci', 'diam',\n",
       "       'sst', 'distance', 'direction'],\n",
       "      dtype='object')"
      ]
     },
     "execution_count": 5,
     "metadata": {},
     "output_type": "execute_result"
    }
   ],
   "source": [
    "x.columns"
   ]
  },
  {
   "cell_type": "code",
   "execution_count": 6,
   "metadata": {},
   "outputs": [
    {
     "data": {
      "text/plain": [
       "array([ True,  True,  True,  True,  True,  True,  True,  True,  True,\n",
       "        True,  True,  True])"
      ]
     },
     "execution_count": 6,
     "metadata": {},
     "output_type": "execute_result"
    }
   ],
   "source": [
    "X_train.columns == x.columns"
   ]
  },
  {
   "cell_type": "code",
   "execution_count": 7,
   "metadata": {},
   "outputs": [],
   "source": [
    "y2 = data['long']\n",
    "x2 = data.loc[:, data.columns != 'long']\n",
    "x2 = x2.drop(columns = ['cyclone_id'])"
   ]
  },
  {
   "cell_type": "code",
   "execution_count": 8,
   "metadata": {},
   "outputs": [
    {
     "name": "stdout",
     "output_type": "stream",
     "text": [
      "Feature season: 0.117652\n",
      "Feature lati: 0.554707\n",
      "Feature cino: 0.204473\n",
      "Feature ecp: 0.365079\n",
      "Feature mssw: 0.259930\n",
      "Feature pd: 0.329973\n",
      "Feature grade: 0.149720\n",
      "Feature oci: 0.074027\n",
      "Feature diam: 0.095447\n",
      "Feature sst: 0.686891\n",
      "Feature distance: 0.268857\n",
      "Feature direction: 0.262406\n"
     ]
    },
    {
     "data": {
      "image/png": "[encoded data removed]",
      "text/plain": [
       "<Figure size 432x288 with 1 Axes>"
      ]
     },
     "metadata": {
      "needs_background": "light"
     },
     "output_type": "display_data"
    }
   ],
   "source": [
    "# feature selection\n",
    "def select_features(X_train, y_train, X_test):\n",
    "    # configure to select all features\n",
    "    fs = SelectKBest(score_func=mutual_info_regression, k='all')\n",
    "    # learn relationship from training data\n",
    "    fs.fit(X_train, y_train)\n",
    "    # transform train input data\n",
    "    X_train_fs = fs.transform(X_train)\n",
    "    # transform test input data\n",
    "    X_test_fs = fs.transform(X_test)\n",
    "    return X_train_fs, X_test_fs, fs\n",
    "\n",
    "X_train, X_test, y_train, y_test = train_test_split(x2, y2, test_size=0.33, random_state=1)\n",
    "\n",
    "X_train_fs, X_test_fs, fs = select_features(X_train, y_train, X_test)\n",
    "\n",
    "features = x2.columns\n",
    "\n",
    "# what are scores for the features\n",
    "for i in range(len(fs.scores_)):\n",
    "#     print('Feature %d: %f' % (i, fs.scores_[i]))\n",
    "    print('Feature %s: %f' %(features[i], fs.scores_[i]))\n",
    "\n",
    "    \n",
    "# plot the scores\n",
    "# plt.bar([i for i in range(len(fs.scores_))], fs.scores_)\n",
    "plt.bar(features, fs.scores_)\n",
    "\n",
    "\n",
    "plt.show()"
   ]
  },
  {
   "cell_type": "code",
   "execution_count": 9,
   "metadata": {},
   "outputs": [],
   "source": [
    "y3 = data['lati']\n",
    "x3 = data.loc[:, data.columns != 'lati']\n",
    "x3 = x3.drop(columns = ['cyclone_id'])"
   ]
  },
  {
   "cell_type": "code",
   "execution_count": 10,
   "metadata": {},
   "outputs": [
    {
     "name": "stdout",
     "output_type": "stream",
     "text": [
      "Feature season: 0.157105\n",
      "Feature long: 0.552211\n",
      "Feature cino: 0.193758\n",
      "Feature ecp: 0.329265\n",
      "Feature mssw: 0.250099\n",
      "Feature pd: 0.269280\n",
      "Feature grade: 0.167408\n",
      "Feature oci: 0.074384\n",
      "Feature diam: 0.071489\n",
      "Feature sst: 0.435057\n",
      "Feature distance: 0.698386\n",
      "Feature direction: 0.486421\n"
     ]
    },
    {
     "data": {
      "image/png": "[encoded data removed]",
      "text/plain": [
       "<Figure size 432x288 with 1 Axes>"
      ]
     },
     "metadata": {
      "needs_background": "light"
     },
     "output_type": "display_data"
    }
   ],
   "source": [
    "# feature selection\n",
    "def select_features(X_train, y_train, X_test):\n",
    "    # configure to select all features\n",
    "    fs = SelectKBest(score_func=mutual_info_regression, k='all')\n",
    "    # learn relationship from training data\n",
    "    fs.fit(X_train, y_train)\n",
    "    # transform train input data\n",
    "    X_train_fs = fs.transform(X_train)\n",
    "    # transform test input data\n",
    "    X_test_fs = fs.transform(X_test)\n",
    "    return X_train_fs, X_test_fs, fs\n",
    "\n",
    "X_train, X_test, y_train, y_test = train_test_split(x3, y3, test_size=0.33, random_state=1)\n",
    "\n",
    "X_train_fs, X_test_fs, fs = select_features(X_train, y_train, X_test)\n",
    "\n",
    "features = x3.columns\n",
    "\n",
    "# what are scores for the features\n",
    "for i in range(len(fs.scores_)):\n",
    "#     print('Feature %d: %f' % (i, fs.scores_[i]))\n",
    "    print('Feature %s: %f' %(features[i], fs.scores_[i]))\n",
    "\n",
    "    \n",
    "# plot the scores\n",
    "# plt.bar([i for i in range(len(fs.scores_))], fs.scores_)\n",
    "plt.bar(features, fs.scores_)\n",
    "\n",
    "\n",
    "plt.show()"
   ]
  },
  {
   "cell_type": "code",
   "execution_count": null,
   "metadata": {},
   "outputs": [],
   "source": []
  }
 ],
 "metadata": {
  "kernelspec": {
   "display_name": "Python 3",
   "language": "python",
   "name": "python3"
  },
  "language_info": {
   "codemirror_mode": {
    "name": "ipython",
    "version": 3
   },
   "file_extension": ".py",
   "mimetype": "text/x-python",
   "name": "python",
   "nbconvert_exporter": "python",
   "pygments_lexer": "ipython3",
   "version": "3.7.3"
  }
 },
 "nbformat": 4,
 "nbformat_minor": 2
}
